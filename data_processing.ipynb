{
 "cells": [
  {
   "cell_type": "code",
   "execution_count": 1,
   "id": "e98d56f7",
   "metadata": {},
   "outputs": [],
   "source": [
    "from config import *"
   ]
  },
  {
   "cell_type": "markdown",
   "id": "4d000a76",
   "metadata": {},
   "source": [
    "**Download Dataset**"
   ]
  },
  {
   "cell_type": "code",
   "execution_count": 2,
   "id": "e6395ae4",
   "metadata": {},
   "outputs": [
    {
     "data": {
      "application/vnd.jupyter.widget-view+json": {
       "model_id": "aba5ac963bc54e88a4f870ddc7100fd1",
       "version_major": 2,
       "version_minor": 0
      },
      "text/plain": [
       "0000.parquet:   0%|          | 0.00/31.7M [00:00<?, ?B/s]"
      ]
     },
     "metadata": {},
     "output_type": "display_data"
    },
    {
     "data": {
      "application/vnd.jupyter.widget-view+json": {
       "model_id": "8053901cc73b478b8f7dcdddb6405e9f",
       "version_major": 2,
       "version_minor": 0
      },
      "text/plain": [
       "Generating train split:   0%|          | 0/324695 [00:00<?, ? examples/s]"
      ]
     },
     "metadata": {},
     "output_type": "display_data"
    },
    {
     "data": {
      "application/vnd.jupyter.widget-view+json": {
       "model_id": "a37ed53a77bd447b8d3503614858a02e",
       "version_major": 2,
       "version_minor": 0
      },
      "text/plain": [
       "0000.parquet:   0%|          | 0.00/31.5M [00:00<?, ?B/s]"
      ]
     },
     "metadata": {},
     "output_type": "display_data"
    },
    {
     "data": {
      "application/vnd.jupyter.widget-view+json": {
       "model_id": "12d5c8d202d94dd28af98c778d6709c5",
       "version_major": 2,
       "version_minor": 0
      },
      "text/plain": [
       "Generating train split:   0%|          | 0/333667 [00:00<?, ? examples/s]"
      ]
     },
     "metadata": {},
     "output_type": "display_data"
    },
    {
     "data": {
      "application/vnd.jupyter.widget-view+json": {
       "model_id": "c22c0d02e18a4bfebc238defc2a2fd3e",
       "version_major": 2,
       "version_minor": 0
      },
      "text/plain": [
       "0000.parquet:   0%|          | 0.00/32.1M [00:00<?, ?B/s]"
      ]
     },
     "metadata": {},
     "output_type": "display_data"
    },
    {
     "data": {
      "application/vnd.jupyter.widget-view+json": {
       "model_id": "4dcd888cdaa04ace948ea4065b9f1eb3",
       "version_major": 2,
       "version_minor": 0
      },
      "text/plain": [
       "Generating train split:   0%|          | 0/339899 [00:00<?, ? examples/s]"
      ]
     },
     "metadata": {},
     "output_type": "display_data"
    },
    {
     "data": {
      "application/vnd.jupyter.widget-view+json": {
       "model_id": "6da566de6c6545f0b484e8ad304486e7",
       "version_major": 2,
       "version_minor": 0
      },
      "text/plain": [
       "0000.parquet:   0%|          | 0.00/33.2M [00:00<?, ?B/s]"
      ]
     },
     "metadata": {},
     "output_type": "display_data"
    },
    {
     "data": {
      "application/vnd.jupyter.widget-view+json": {
       "model_id": "d22bf6d6e4f94dcfb5c7223bb66836b9",
       "version_major": 2,
       "version_minor": 0
      },
      "text/plain": [
       "Generating train split:   0%|          | 0/338649 [00:00<?, ? examples/s]"
      ]
     },
     "metadata": {},
     "output_type": "display_data"
    }
   ],
   "source": [
    "import os\n",
    "from datasets import load_dataset\n",
    "\n",
    "\n",
    "def load_dataset_split(lang_pair):\n",
    "    dataset = load_dataset(\n",
    "        path=DATASET_REPO,\n",
    "        name=lang_pair,\n",
    "        split=\"train\",\n",
    "        download_mode=\"force_redownload\",\n",
    "        trust_remote_code=True,\n",
    "    )\n",
    "    return dataset\n",
    "\n",
    "\n",
    "lang_pairs = [\"en-mt\", \"en-et\", \"en-lt\", \"en-sk\"]\n",
    "\n",
    "for lang_pair in lang_pairs:\n",
    "    dataset = load_dataset_split(lang_pair)\n",
    "    sentences = dataset[\"translation\"]\n",
    "\n",
    "    source_lang = lang_pair.split(\"-\")[0]\n",
    "    target_lang = lang_pair.split(\"-\")[1]\n",
    "    source_sents, target_sents = [], []\n",
    "\n",
    "    for sent in sentences:\n",
    "        source_sents.append(sent[source_lang])\n",
    "        target_sents.append(sent[target_lang])\n",
    "\n",
    "    save_path = f\"{DATA_DIR}/{lang_pair}\"\n",
    "    os.makedirs(save_path)\n",
    "\n",
    "    with open(f\"{save_path}/source.txt\", \"w\", encoding=\"utf-8\") as file:\n",
    "        file.write(\"\\n\".join(source_sents))\n",
    "    with open(f\"{save_path}/target.txt\", \"w\", encoding=\"utf-8\") as file:\n",
    "        file.write(\"\\n\".join(target_sents))"
   ]
  },
  {
   "cell_type": "code",
   "execution_count": null,
   "id": "6484d7c6",
   "metadata": {},
   "outputs": [],
   "source": []
  }
 ],
 "metadata": {
  "kernelspec": {
   "display_name": "sci-mt",
   "language": "python",
   "name": "python3"
  },
  "language_info": {
   "codemirror_mode": {
    "name": "ipython",
    "version": 3
   },
   "file_extension": ".py",
   "mimetype": "text/x-python",
   "name": "python",
   "nbconvert_exporter": "python",
   "pygments_lexer": "ipython3",
   "version": "3.13.2"
  }
 },
 "nbformat": 4,
 "nbformat_minor": 5
}
