{
 "cells": [
  {
   "cell_type": "code",
   "execution_count": 15,
   "id": "e98d56f7",
   "metadata": {},
   "outputs": [],
   "source": [
    "from config import *"
   ]
  },
  {
   "cell_type": "markdown",
   "id": "4d000a76",
   "metadata": {},
   "source": [
    "**Download Dataset**"
   ]
  },
  {
   "cell_type": "code",
   "execution_count": 16,
   "id": "4c301e1d",
   "metadata": {},
   "outputs": [
    {
     "data": {
      "application/vnd.jupyter.widget-view+json": {
       "model_id": "88fef3b540e7482eb4a0e7c967e2578d",
       "version_major": 2,
       "version_minor": 0
      },
      "text/plain": [
       "Fetching 41 files:   0%|          | 0/41 [00:00<?, ?it/s]"
      ]
     },
     "metadata": {},
     "output_type": "display_data"
    },
    {
     "data": {
      "text/plain": [
       "'./EU_scientific_corpus'"
      ]
     },
     "execution_count": 16,
     "metadata": {},
     "output_type": "execute_result"
    }
   ],
   "source": [
    "import shutil\n",
    "from huggingface_hub import snapshot_download\n",
    "\n",
    "\n",
    "snapshot_path = snapshot_download(repo_id=DATASET_REPO, repo_type=\"dataset\")\n",
    "shutil.copytree(snapshot_path, LOCAL_DIR, dirs_exist_ok=True)"
   ]
  },
  {
   "cell_type": "markdown",
   "id": "cd5baa9a",
   "metadata": {},
   "source": [
    "**Process Data**"
   ]
  },
  {
   "cell_type": "code",
   "execution_count": 17,
   "id": "f9db1620",
   "metadata": {},
   "outputs": [],
   "source": [
    "import xml.etree.ElementTree as ET\n",
    "\n",
    "\n",
    "def parse_tmx(file_path):\n",
    "    tree = ET.parse(file_path)\n",
    "    root = tree.getroot()\n",
    "\n",
    "    tu_list = []\n",
    "    for tu in root.iter(\"tu\"):\n",
    "        segs = [tuv.find(\"seg\").text for tuv in tu.findall(\"tuv\")]\n",
    "        tu_list.append(tuple(segs))\n",
    "    return tu_list"
   ]
  },
  {
   "cell_type": "code",
   "execution_count": 18,
   "id": "dfdb627f",
   "metadata": {},
   "outputs": [],
   "source": [
    "import os\n",
    "\n",
    "data_dir = os.path.join(LOCAL_DIR, DATA_DIR)\n",
    "\n",
    "for file in os.listdir(data_dir):\n",
    "    if file.endswith(\".tmx\"):\n",
    "        segments = parse_tmx(os.path.join(data_dir, file))\n",
    "        source_sents = [seg[0] for seg in segments]\n",
    "        target_sents = [seg[1] for seg in segments]\n",
    "\n",
    "        os.makedirs(f\"{DATA_DIR}/{file[:-3]}\")\n",
    "\n",
    "        with open(f\"data/{file[:-3]}/source.txt\", \"w\", encoding=\"utf-8\") as out_file:\n",
    "            out_file.write(\"\\n\".join(source_sents) + \"\\n\")\n",
    "\n",
    "        with open(f\"data/{file[:-3]}/target.txt\", \"w\", encoding=\"utf-8\") as out_file:\n",
    "            out_file.write(\"\\n\".join(target_sents) + \"\\n\")"
   ]
  },
  {
   "cell_type": "code",
   "execution_count": 19,
   "id": "b204e301",
   "metadata": {},
   "outputs": [],
   "source": [
    "# Delete original dir\n",
    "shutil.rmtree(LOCAL_DIR)"
   ]
  }
 ],
 "metadata": {
  "kernelspec": {
   "display_name": "sci-mt",
   "language": "python",
   "name": "python3"
  },
  "language_info": {
   "codemirror_mode": {
    "name": "ipython",
    "version": 3
   },
   "file_extension": ".py",
   "mimetype": "text/x-python",
   "name": "python",
   "nbconvert_exporter": "python",
   "pygments_lexer": "ipython3",
   "version": "3.13.2"
  }
 },
 "nbformat": 4,
 "nbformat_minor": 5
}
